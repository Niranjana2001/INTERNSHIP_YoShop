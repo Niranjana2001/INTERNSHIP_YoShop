{
 "cells": [
  {
   "cell_type": "code",
   "execution_count": 1,
   "id": "f688966a",
   "metadata": {},
   "outputs": [],
   "source": [
    "from bs4 import BeautifulSoup\n",
    "import urllib\n",
    "import urllib.request\n",
    "import requests\n",
    "import pandas as pd"
   ]
  },
  {
   "cell_type": "code",
   "execution_count": 2,
   "id": "a7f91830",
   "metadata": {},
   "outputs": [],
   "source": [
    "#url is the url of the webpage whose number of pages has to be found out\n",
    "def pagenumber(url):\n",
    "    url_request=urllib.request.urlopen(url)\n",
    "    url_details=BeautifulSoup(url_request,'html.parser')\n",
    "    url_page=url_details.find_all('li',{'class':'num'})\n",
    "    page_num=0\n",
    "    for i in url_page:\n",
    "        if int(i.text)>page_num:\n",
    "            page_num=int(i.text)\n",
    "    return page_num\n",
    "\n",
    "\n",
    "def pageiteration_product_name(url):\n",
    "    product=[]\n",
    "    website=[]\n",
    "    pagenum=pagenumber(url)\n",
    "    for page in range(1,pagenum+1):\n",
    "        page_url=url+\"?page=\"+str(page)\n",
    "        page_url_request=urllib.request.urlopen(page_url)\n",
    "        page=BeautifulSoup(page_url_request,'html.parser')\n",
    "        page_details=page.find_all('div',{'class':'product-thumb'})\n",
    "        page_website=page.find_all('a',{'class':'product-link'})\n",
    "        for names in page_details:\n",
    "            image_does_not_exist=False\n",
    "            product_image=names.find(\"img\",src=True)['src']\n",
    "            if \"noimage\" in product_image:\n",
    "                image_does_not_exist=True\n",
    "                if image_does_not_exist==True:\n",
    "                    product_name=names.find(\"img\",alt=True)['alt']\n",
    "                    product.append(product_name)\n",
    "    return product\n",
    "\n",
    "def pageiteration_website(url,product_name):\n",
    "    websites=[]\n",
    "    pagenum=pagenumber(url)\n",
    "    for page in range(1,pagenum+1):\n",
    "        page_url=url+\"?page=\"+str(page)\n",
    "        page_url_request=urllib.request.urlopen(page_url)\n",
    "        page=BeautifulSoup(page_url_request,'html.parser')\n",
    "        page_website=page.find_all('span',{'class':'product-title'})\n",
    "        for i in page_website:\n",
    "            for product in product_name:\n",
    "                if i.text==product:\n",
    "                    j=i.get('href')\n",
    "                    site=\"https://yoshops.com\"+j\n",
    "                    websites.append(site)\n",
    "    return websites\n",
    "\n",
    "def pageiteration(url):\n",
    "    product_name=pageiteration_product_name(url)\n",
    "    product_website=pageiteration_website(url,product_name)\n",
    "    no_image_products=pd.DataFrame()\n",
    "    no_image_products['Product Name']=product_name\n",
    "    no_image_products['Product Website']=product_website\n",
    "    return no_image_products\n",
    "    \n",
    "def check(products):\n",
    "    if list(products['Product Name'])==[]:\n",
    "        print(\"There are no products without images\")\n",
    "    else:\n",
    "        print(products.to_string(index=False))\n",
    "        "
   ]
  },
  {
   "cell_type": "code",
   "execution_count": 4,
   "id": "5ea1ab84",
   "metadata": {},
   "outputs": [
    {
     "name": "stdout",
     "output_type": "stream",
     "text": [
      "Enter your choice : \n",
      "1. Get the details of the products which do not have image \n",
      "2. Get the details of the products which do not have image category wise\n",
      "2\n",
      "Select the category : \n",
      "1. Toys\n",
      "2. Mobiles \n",
      "3. Laptops \n",
      "4. Accessories \n",
      "5. Electronics \n",
      "6. Kitchen \n",
      "7. Fashion \n",
      "8. Food \n",
      "9. Services\n",
      "1\n",
      "There are no products without images\n"
     ]
    }
   ],
   "source": [
    "excel_file=\"Product Without Images Details.xlsx\"\n",
    "option=input(\"Enter your choice : \\n1. Get the details of the products which do not have image \\n2. Get the details of the products which do not have image category wise\\n\")\n",
    "if option=='1':\n",
    "    site=input(\"Enter the site : \")\n",
    "    if site ==\"https://yoshops.com/\":\n",
    "        url=site+\"products\"\n",
    "        products=pageiteration(url)\n",
    "        print(products)\n",
    "    else:\n",
    "        print(\"Enter the valid site\")\n",
    "elif option=='2':\n",
    "    category=input(\"Select the category : \\n1. Toys\\n2. Mobiles \\n3. Laptops \\n4. Accessories \\n5. Electronics \\n6. Kitchen \\n7. Fashion \\n8. Food \\n9. Services\\n\")\n",
    "    if category=='1':\n",
    "        url=\"https://yoshops.com/t/toys\"\n",
    "        products=pageiteration(url)\n",
    "        check(products)\n",
    "    elif category=='2':\n",
    "        url=\"https://yoshops.com/t/mobile-phones\"\n",
    "        products=pageiteration(url)\n",
    "        check(products)\n",
    "    elif category=='3':\n",
    "        url=\"https://yoshops.com/t/laptops\"\n",
    "        products=pageiteration(url)\n",
    "        check(products)\n",
    "    elif category=='4':\n",
    "        url=\"https://yoshops.com/t/accessories\"\n",
    "        products=pageiteration(url)\n",
    "        check(products)\n",
    "    elif category=='5':\n",
    "        url=\"https://yoshops.com/t/electronics\"\n",
    "        products=pageiteration(url)\n",
    "        check(products)\n",
    "    elif category=='6':\n",
    "        url=\"https://yoshops.com/t/home--kitchen\"\n",
    "        products=pageiteration(url)\n",
    "        check(products)\n",
    "    elif category=='7':\n",
    "        url=\"https://yoshops.com/t/fashion\"\n",
    "        products=pageiteration(url)\n",
    "        check(products)\n",
    "    elif category=='8':\n",
    "        url=\"https://yoshops.com/t/food\"\n",
    "        products=pageiteration(url)\n",
    "        check(products)\n",
    "    elif category=='9':\n",
    "        url=\"https://yoshops.com/t/Services\"\n",
    "        products=pageiteration(url)\n",
    "        check(products)\n",
    "else:\n",
    "    print(\"Enter a valid option\")\n",
    "            "
   ]
  },
  {
   "cell_type": "code",
   "execution_count": 17,
   "id": "58b55507",
   "metadata": {},
   "outputs": [],
   "source": [
    "sites=['https://yoshops.com/t/toys','https://yoshops.com/t/mobile-phones','https://yoshops.com/t/laptops','https://yoshops.com/t/accessories','https://yoshops.com/t/electronics','https://yoshops.com/t/home--kitchen',\n",
    "      'https://yoshops.com/t/fashion','https://yoshops.com/t/food','https://yoshops.com/t/Services']\n",
    "for site in sites:\n",
    "    file_name=site.split('/')[-1]+\".xlsx\"\n",
    "    products=pageiteration(site)\n",
    "    products.to_excel(file_name)\n"
   ]
  },
  {
   "cell_type": "code",
   "execution_count": 18,
   "id": "f90c36c3",
   "metadata": {},
   "outputs": [],
   "source": [
    "all_products='https://yoshops.com/'\n",
    "products_file=\"Products.xlsx\"\n",
    "products_no_image=pageiteration(all_products)\n",
    "products_no_image.to_excel(products_file)"
   ]
  },
  {
   "cell_type": "code",
   "execution_count": null,
   "id": "0f6c05dc",
   "metadata": {},
   "outputs": [],
   "source": []
  },
  {
   "cell_type": "code",
   "execution_count": null,
   "id": "89be7ff2",
   "metadata": {},
   "outputs": [],
   "source": []
  },
  {
   "cell_type": "code",
   "execution_count": null,
   "id": "3294cde9",
   "metadata": {},
   "outputs": [],
   "source": []
  },
  {
   "cell_type": "code",
   "execution_count": null,
   "id": "6df03ee8",
   "metadata": {},
   "outputs": [],
   "source": []
  },
  {
   "cell_type": "code",
   "execution_count": null,
   "id": "aa67bf8c",
   "metadata": {},
   "outputs": [],
   "source": []
  },
  {
   "cell_type": "code",
   "execution_count": null,
   "id": "68a074d5",
   "metadata": {},
   "outputs": [],
   "source": []
  },
  {
   "cell_type": "code",
   "execution_count": null,
   "id": "e96e5e8b",
   "metadata": {},
   "outputs": [],
   "source": []
  },
  {
   "cell_type": "code",
   "execution_count": null,
   "id": "bdac8758",
   "metadata": {},
   "outputs": [],
   "source": []
  },
  {
   "cell_type": "code",
   "execution_count": null,
   "id": "66559057",
   "metadata": {},
   "outputs": [],
   "source": []
  },
  {
   "cell_type": "code",
   "execution_count": null,
   "id": "b166bcf1",
   "metadata": {},
   "outputs": [],
   "source": []
  },
  {
   "cell_type": "code",
   "execution_count": null,
   "id": "87b6b463",
   "metadata": {},
   "outputs": [],
   "source": []
  },
  {
   "cell_type": "code",
   "execution_count": null,
   "id": "20522595",
   "metadata": {},
   "outputs": [],
   "source": []
  },
  {
   "cell_type": "code",
   "execution_count": null,
   "id": "662ebb48",
   "metadata": {},
   "outputs": [],
   "source": []
  }
 ],
 "metadata": {
  "kernelspec": {
   "display_name": "Python 3 (ipykernel)",
   "language": "python",
   "name": "python3"
  },
  "language_info": {
   "codemirror_mode": {
    "name": "ipython",
    "version": 3
   },
   "file_extension": ".py",
   "mimetype": "text/x-python",
   "name": "python",
   "nbconvert_exporter": "python",
   "pygments_lexer": "ipython3",
   "version": "3.9.13"
  }
 },
 "nbformat": 4,
 "nbformat_minor": 5
}
